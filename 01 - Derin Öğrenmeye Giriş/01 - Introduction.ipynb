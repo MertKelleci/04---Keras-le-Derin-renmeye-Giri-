{
 "cells": [
  {
   "cell_type": "markdown",
   "id": "f7f60885-4c51-468b-bb54-af59d3b3fcef",
   "metadata": {},
   "source": [
    "<h1 style=\"text-align:center;\">Derin Öğrenmeye Giriş</h1>\n",
    "\n",
    "<div style=\"text-align:center;\">\n",
    "    <img src=\"tensor.png\" width=\"700\"/>\n",
    "</div>\n",
    "\n",
    "## Backwards Propagation:\n",
    "\n",
    "<div style=\"text-align:center;\">\n",
    "    <img src=\"bp1.png\" width=\"700\"/>\n",
    "</div>\n",
    "\n",
    "1. $f(x)$'in türevi $1$ olduğu için giriş $1$dir.\n",
    "2. Sonraki adımlarda, yapılan işleminin $x$'e göre türevi alınır ve bir önceki *(forward propagation'a göre sonraki)* adımdan gelen sonuç ile çarpılır.\n",
    "3. Eğer türev işleminde $x$ varsa yerine bir sonraki *(forward propagation'a göre önceki)* adımın sonucu *(yeşil değerler)* girilir.\n",
    "\n",
    "<div style=\"text-align:center;\">\n",
    "    <img src=\"bp2.png\" width=\"700\"/>\n",
    "</div>\n",
    "\n",
    "<div style=\"text-align:center;\">\n",
    "    <img src=\"fp-bp.png\" width=\"700\"/>\n",
    "</div>\n",
    "<div style=\"text-align:center;\">\n",
    "    <img src=\"smt.png\" width=\"700\"/>\n",
    "</div>\n"
   ]
  }
 ],
 "metadata": {
  "kernelspec": {
   "display_name": "Python 3 (ipykernel)",
   "language": "python",
   "name": "python3"
  },
  "language_info": {
   "codemirror_mode": {
    "name": "ipython",
    "version": 3
   },
   "file_extension": ".py",
   "mimetype": "text/x-python",
   "name": "python",
   "nbconvert_exporter": "python",
   "pygments_lexer": "ipython3",
   "version": "3.10.13"
  }
 },
 "nbformat": 4,
 "nbformat_minor": 5
}
